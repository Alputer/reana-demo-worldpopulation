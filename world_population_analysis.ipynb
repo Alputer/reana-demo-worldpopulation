{
 "cells": [
  {
   "cell_type": "markdown",
   "metadata": {},
   "source": [
    "# Analysis of World Historical and Predicted Population\n",
    "\n",
    "The following notebook provides a simple analysis of global demographic data."
   ]
  },
  {
   "cell_type": "markdown",
   "metadata": {},
   "source": [
    "First, let's import the necessary librairies."
   ]
  },
  {
   "cell_type": "code",
   "execution_count": 1,
   "metadata": {
    "collapsed": false
   },
   "outputs": [],
   "source": [
    "import pandas as pd\n",
    "import numpy as np\n",
    "import matplotlib.pyplot as plt\n",
    "\n",
    "%matplotlib inline"
   ]
  },
  {
   "cell_type": "markdown",
   "metadata": {},
   "source": [
    "Then, we need the data file. If it doesn't already exist locally, we'll create it."
   ]
  },
  {
   "cell_type": "code",
   "execution_count": 2,
   "metadata": {
    "collapsed": false
   },
   "outputs": [],
   "source": [
    "inputFileName = \"World_historical_and_predicted_populations_in_percentage.csv\"\n",
    "import os\n",
    "if not os.path.exists(inputFileName):\n",
    "    import urllib2\n",
    "    response = urllib2.urlopen(\"http://inveniosoftware.org/download/invenio-demo-site-files/World_historical_and_predicted_populations_in_percentage.csv\")\n",
    "    filecontent = response.read()   \n",
    "    with open(inputFileName,\"w\") as f_out:\n",
    "        f_out.write(filecontent)"
   ]
  },
  {
   "cell_type": "markdown",
   "metadata": {},
   "source": [
    "## First manipulations\n",
    "\n",
    "It will be easier to analyze the table once it's transposed. That way, dates are assimilated to an index and we can manipulate the data by region."
   ]
  },
  {
   "cell_type": "code",
   "execution_count": 3,
   "metadata": {
    "collapsed": false
   },
   "outputs": [],
   "source": [
    "def transpose(inputFileName):\n",
    "    # Transpose rows and columns\n",
    "    import csv\n",
    "    from itertools import izip    \n",
    "    with open(inputFileName, \"rU\") as f, open('World_Pop_Evolution.csv', \"wb\") as fout:\n",
    "        csv.writer(fout).writerows(izip(*csv.reader(f)))"
   ]
  },
  {
   "cell_type": "code",
   "execution_count": 4,
   "metadata": {
    "collapsed": false
   },
   "outputs": [],
   "source": [
    "transpose(inputFileName=inputFileName)"
   ]
  },
  {
   "cell_type": "markdown",
   "metadata": {},
   "source": [
    "That's it! We can now finally start reading from the file."
   ]
  },
  {
   "cell_type": "code",
   "execution_count": 5,
   "metadata": {
    "collapsed": false
   },
   "outputs": [
    {
     "data": {
      "text/html": [
       "<div>\n",
       "<table border=\"1\" class=\"dataframe\">\n",
       "  <thead>\n",
       "    <tr style=\"text-align: right;\">\n",
       "      <th></th>\n",
       "      <th>Region</th>\n",
       "      <th>Africa</th>\n",
       "      <th>Asia</th>\n",
       "      <th>Europe</th>\n",
       "      <th>Latin America and the Caribbean</th>\n",
       "      <th>Northern America</th>\n",
       "      <th>Oceania</th>\n",
       "    </tr>\n",
       "  </thead>\n",
       "  <tbody>\n",
       "    <tr>\n",
       "      <th>0</th>\n",
       "      <td>1500</td>\n",
       "      <td>18.8</td>\n",
       "      <td>53.1</td>\n",
       "      <td>18.3</td>\n",
       "      <td>8.5</td>\n",
       "      <td>0.7</td>\n",
       "      <td>0.7</td>\n",
       "    </tr>\n",
       "    <tr>\n",
       "      <th>1</th>\n",
       "      <td>1600</td>\n",
       "      <td>19.7</td>\n",
       "      <td>58.4</td>\n",
       "      <td>19.1</td>\n",
       "      <td>1.7</td>\n",
       "      <td>0.5</td>\n",
       "      <td>0.5</td>\n",
       "    </tr>\n",
       "    <tr>\n",
       "      <th>2</th>\n",
       "      <td>1700</td>\n",
       "      <td>15.5</td>\n",
       "      <td>63.9</td>\n",
       "      <td>18.3</td>\n",
       "      <td>1.5</td>\n",
       "      <td>0.3</td>\n",
       "      <td>0.4</td>\n",
       "    </tr>\n",
       "    <tr>\n",
       "      <th>3</th>\n",
       "      <td>1750</td>\n",
       "      <td>13.4</td>\n",
       "      <td>63.5</td>\n",
       "      <td>20.6</td>\n",
       "      <td>2.0</td>\n",
       "      <td>0.3</td>\n",
       "      <td>0.3</td>\n",
       "    </tr>\n",
       "    <tr>\n",
       "      <th>4</th>\n",
       "      <td>1800</td>\n",
       "      <td>10.9</td>\n",
       "      <td>64.9</td>\n",
       "      <td>20.8</td>\n",
       "      <td>2.5</td>\n",
       "      <td>0.7</td>\n",
       "      <td>0.2</td>\n",
       "    </tr>\n",
       "  </tbody>\n",
       "</table>\n",
       "</div>"
      ],
      "text/plain": [
       "   Region  Africa  Asia  Europe  Latin America and the Caribbean  \\\n",
       "0    1500    18.8  53.1    18.3                              8.5   \n",
       "1    1600    19.7  58.4    19.1                              1.7   \n",
       "2    1700    15.5  63.9    18.3                              1.5   \n",
       "3    1750    13.4  63.5    20.6                              2.0   \n",
       "4    1800    10.9  64.9    20.8                              2.5   \n",
       "\n",
       "   Northern America  Oceania  \n",
       "0               0.7      0.7  \n",
       "1               0.5      0.5  \n",
       "2               0.3      0.4  \n",
       "3               0.3      0.3  \n",
       "4               0.7      0.2  "
      ]
     },
     "execution_count": 5,
     "metadata": {},
     "output_type": "execute_result"
    }
   ],
   "source": [
    "pop=pd.read_csv(\"World_Pop_Evolution.csv\")\n",
    "\n",
    "# Remove the World column\n",
    "pop.drop('World', axis=1, inplace=True)\n",
    "\n",
    "pop.head()"
   ]
  },
  {
   "cell_type": "markdown",
   "metadata": {},
   "source": [
    "## Regional Analysis\n",
    "\n",
    "We'll start with a histogram depicting the evolution of a specific region's portion of the world population, in percentage."
   ]
  },
  {
   "cell_type": "code",
   "execution_count": 6,
   "metadata": {
    "collapsed": false
   },
   "outputs": [],
   "source": [
    "def histogram_by_region(region):\n",
    "    local_pop=pop[['Region', str(region)]].groupby('Region').sum()\n",
    "    \n",
    "    plot=local_pop.plot(kind='bar', legend=None, title='Percentage of World Population over time in '+ str(region))\n",
    "    \n",
    "    plot.set_ylabel('% of world population')\n",
    "    plot.set_xlabel('')"
   ]
  },
  {
   "cell_type": "code",
   "execution_count": 7,
   "metadata": {
    "collapsed": false,
    "scrolled": true
   },
   "outputs": [
    {
     "data": {
      "image/png": "[encoded data removed]",
      "text/plain": [
       "<matplotlib.figure.Figure at 0x7f3d473b1d10>"
      ]
     },
     "metadata": {},
     "output_type": "display_data"
    }
   ],
   "source": [
    "histogram_by_region('Africa')"
   ]
  },
  {
   "cell_type": "markdown",
   "metadata": {},
   "source": [
    "## Global Analysis\n",
    "\n",
    "Finally, let's draw a histogram representing the evolution of each geographical region's percentage of world population.\n",
    "\n",
    "To do this, we can create an auxiliary function which adds the bars corresponding to a region on top of the previous ones, on the final plot."
   ]
  },
  {
   "cell_type": "code",
   "execution_count": 8,
   "metadata": {
    "collapsed": false
   },
   "outputs": [],
   "source": [
    "# Add the corresponding region's population\n",
    "def create_bar_plot(i, data, hist_plot, bar_l, bar_width, colors, bottom):\n",
    "    region_name=data.columns.values[i]\n",
    "    \n",
    "    # Plot at x=0 if first region\n",
    "    if (i==0):\n",
    "        hist_plot.bar(bar_l, data[region_name], width=bar_width, label=region_name, color=colors[i])\n",
    "        return\n",
    "    \n",
    "    # Plot at position bar_l, on top of the cumulative sum of the population of previous regions\n",
    "    hist_plot.bar(bar_l, data[region_name], width=bar_width, label=region_name, color=colors[i], bottom=bottom[data.columns.values[i-1]])    "
   ]
  },
  {
   "cell_type": "code",
   "execution_count": 9,
   "metadata": {
    "collapsed": true
   },
   "outputs": [],
   "source": [
    "def evolution_pop_histogram(pop):\n",
    "    # Create the plot and bars\n",
    "    f, hist_plot=plt.subplots(1, figsize=(15,10))\n",
    "    \n",
    "    # Width of a time bar\n",
    "    bar_width = 0.4\n",
    "    \n",
    "    # Positions of the left bar-boundaries\n",
    "    bar_l = [i+1 for i in range(len(pop['Region']))]\n",
    "    \n",
    "    # Basic colors  \n",
    "    colors = ['g', 'y', 'r', 'b', 'm', 'c']\n",
    "    \n",
    "    # Data without time values\n",
    "    data=pop[[pop.columns.values[i+1] for i in range(len(pop.columns)-1)]]\n",
    "    \n",
    "    # Cumulative sum over percentages\n",
    "    bottom = data.cumsum(axis=1)\n",
    "    \n",
    "    # Create bar plot for each region    \n",
    "    for i in range(len(data.columns)):\n",
    "        create_bar_plot(i, data=data, hist_plot=hist_plot, bar_l=bar_l, bar_width=bar_width, colors=colors, bottom=bottom)\n",
    "    \n",
    "    # Add time labels\n",
    "    label_pos = [i + (bar_width/2) for i in bar_l]\n",
    "    plt.xticks(label_pos, pop['Region'])\n",
    "    \n",
    "    # Set upper limit for the y-axis    \n",
    "    axes = plt.gca()\n",
    "    axes.set_ylim([0,105])\n",
    "    \n",
    "    # Set labels and legend\n",
    "    hist_plot.set_ylabel(\"Percentage of World Population\")\n",
    "    hist_plot.set_title(\"Historical and Predicted Percentage of World Population per Region\")\n",
    "    plt.legend(loc=9, bbox_to_anchor=(0.5, 1.05), ncol=3)    "
   ]
  },
  {
   "cell_type": "code",
   "execution_count": 10,
   "metadata": {
    "collapsed": false
   },
   "outputs": [
    {
     "data": {
      "image/png": "[encoded data removed]",
      "text/plain": [
       "<matplotlib.figure.Figure at 0x7f3d472f2390>"
      ]
     },
     "metadata": {},
     "output_type": "display_data"
    }
   ],
   "source": [
    "evolution_pop_histogram(pop)"
   ]
  }
 ],
 "metadata": {
  "kernelspec": {
   "display_name": "Python 2",
   "language": "python",
   "name": "python2"
  },
  "language_info": {
   "codemirror_mode": {
    "name": "ipython",
    "version": 2
   },
   "file_extension": ".py",
   "mimetype": "text/x-python",
   "name": "python",
   "nbconvert_exporter": "python",
   "pygments_lexer": "ipython2",
   "version": "2.7.12"
  }
 },
 "nbformat": 4,
 "nbformat_minor": 1
}
